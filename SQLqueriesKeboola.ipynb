{
 "cells": [
  {
   "cell_type": "markdown",
   "id": "6dbd59ea-ff23-49bb-9a14-1aa6ed9498ac",
   "metadata": {},
   "source": [
    "# Tasks"
   ]
  },
  {
   "cell_type": "markdown",
   "id": "fec47439-6b87-4a36-b2c4-5f7c8a8203c5",
   "metadata": {},
   "source": [
    "SQL queries (approx. 30 minutes):\n",
    "Work with last month of transactions available in the dataset.\n",
    "1. List all customers who made more purchases within 1 week from their first purchase."
   ]
  },
  {
   "cell_type": "raw",
   "id": "6ce563a8-adb8-4f6c-8c4e-551927942d9c",
   "metadata": {},
   "source": [
    "WITH LastMonthSales AS (\n",
    "    Select MAX(d.d_month_seq) AS last_month\n",
    "    FROM SNOWFLAKE_SAMPLE_DATA.TPCDS_SF10TCL.STORE_SALES AS s\n",
    "    JOIN SNOWFLAKE_SAMPLE_DATA.TPCDS_SF10TCL.DATE_DIM AS d ON s.ss_sold_date_sk = d.d_date_sk\n",
    "),\n",
    "Purchase as (\n",
    "    Select s.ss_customer_sk, MIN(d.d_date) as first_purchase\n",
    "    FROM SNOWFLAKE_SAMPLE_DATA.TPCDS_SF10TCL.STORE_SALES as s\n",
    "    JOIN SNOWFLAKE_SAMPLE_DATA.TPCDS_SF10TCL.DATE_DIM as d on s.ss_sold_date_sk = d.d_date_sk\n",
    "    JOIN LastMonthSales as lm on d.d_month_seq = lm.last_month\n",
    "    GROUP BY s.ss_customer_sk\n",
    "),\n",
    "PurchaseInWeek as (\n",
    " SELECT s.ss_customer_sk, COUNT(*)as purchase_count_in_week\n",
    " FROM SNOWFLAKE_SAMPLE_DATA.TPCDS_SF10TCL.STORE_SALES as s\n",
    " JOIN SNOWFLAKE_SAMPLE_DATA.TPCDS_SF10TCL.DATE_DIM as d on s.ss_sold_date_sk = d.d_date_sk\n",
    " JOIN Purchase as p on s.ss_customer_sk = p.ss_customer_sk\n",
    " WHERE d.d_date <=DATEADD('DAY', 7, p.first_purchase) AND d.d_date > p.first_purchase\n",
    " GROUP BY s.ss_customer_sk\n",
    " HAVING COUNT(*) >1\n",
    ")\n",
    "SELECT c.c_customer_sk, c.c_first_name, c.c_last_name, c.c_birth_country, c.c_email_address, c.c_customer_id\n",
    "FROM SNOWFLAKE_SAMPLE_DATA.TPCDS_SF10TCL.CUSTOMER as c\n",
    "JOIN PurchaseInWeek as p_week ON c.c_customer_sk = p_week.ss_customer_sk"
   ]
  },
  {
   "cell_type": "code",
   "execution_count": null,
   "id": "cca4146d-9758-4e69-9fa1-c88df696a784",
   "metadata": {},
   "outputs": [],
   "source": [
    "import pd"
   ]
  }
 ],
 "metadata": {
  "kernelspec": {
   "display_name": "Python 3 (ipykernel)",
   "language": "python",
   "name": "python3"
  },
  "language_info": {
   "codemirror_mode": {
    "name": "ipython",
    "version": 3
   },
   "file_extension": ".py",
   "mimetype": "text/x-python",
   "name": "python",
   "nbconvert_exporter": "python",
   "pygments_lexer": "ipython3",
   "version": "3.11.5"
  }
 },
 "nbformat": 4,
 "nbformat_minor": 5
}
